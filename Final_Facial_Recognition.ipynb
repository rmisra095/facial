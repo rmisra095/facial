{
  "cells": [
    {
      "cell_type": "markdown",
      "metadata": {
        "id": "view-in-github",
        "colab_type": "text"
      },
      "source": [
        "<a href=\"https://colab.research.google.com/github/rmisra095/facial/blob/main/Final_Facial_Recognition.ipynb\" target=\"_parent\"><img src=\"https://colab.research.google.com/assets/colab-badge.svg\" alt=\"Open In Colab\"/></a>"
      ]
    },
    {
      "cell_type": "code",
      "execution_count": null,
      "metadata": {
        "id": "bPha5WZ3er8u",
        "colab": {
          "base_uri": "https://localhost:8080/"
        },
        "outputId": "97d50bdd-f3f4-40ee-c942-95c1d5da844b"
      },
      "outputs": [
        {
          "output_type": "stream",
          "name": "stdout",
          "text": [
            "Path to dataset files: /root/.cache/kagglehub/datasets/msambare/fer2013/versions/1\n"
          ]
        }
      ],
      "source": [
        "# Importing torch dependencies\n",
        "import torch\n",
        "import torch.nn as nn\n",
        "import torch.optim as optim\n",
        "import torchvision.transforms as transforms\n",
        "\n",
        "# Device configuration: Use cuda if available\n",
        "device = torch.device(\"cuda\") if torch.cuda.is_available() else torch.device(\"cpu\")\n",
        "\n",
        "# Download latest version of dataset (data is already cleansed and tranformed)\n",
        "import kagglehub\n",
        "# Download latest version\n",
        "path = kagglehub.dataset_download(\"msambare/fer2013\")\n",
        "print(\"Path to dataset files:\", path)"
      ]
    },
    {
      "cell_type": "code",
      "source": [
        "from google.colab import drive\n",
        "drive.mount('/content/drive')"
      ],
      "metadata": {
        "colab": {
          "base_uri": "https://localhost:8080/"
        },
        "id": "Y0EjPIGnPomk",
        "outputId": "d6642a5f-b526-43b1-aeff-db3f20b8d442"
      },
      "execution_count": null,
      "outputs": [
        {
          "output_type": "stream",
          "name": "stdout",
          "text": [
            "Drive already mounted at /content/drive; to attempt to forcibly remount, call drive.mount(\"/content/drive\", force_remount=True).\n"
          ]
        }
      ]
    },
    {
      "cell_type": "code",
      "source": [
        "#Data Preparation\n",
        "\n",
        "import torchvision\n",
        "from torch.utils.data import DataLoader, Subset\n",
        "\n",
        "transform = transforms.Compose([\n",
        "    transforms.Grayscale(num_output_channels=1),\n",
        "    transforms.Resize((48, 48)),\n",
        "    transforms.ToTensor(),\n",
        "    transforms.Normalize((0.5,), (0.5,))\n",
        "])\n",
        "\n",
        "batch_size = 32\n",
        "\n",
        "train_dir = \"/root/.cache/kagglehub/datasets/msambare/fer2013/versions/1/train\"\n",
        "test_dir = \"/root/.cache/kagglehub/datasets/msambare/fer2013/versions/1/test\"\n",
        "\n",
        "# load train and test datasets\n",
        "trainset = torchvision.datasets.ImageFolder(root=train_dir, transform=transform)\n",
        "testset = torchvision.datasets.ImageFolder(root=test_dir, transform=transform)\n",
        "\n",
        "# Create subsets\n",
        "subset_size = 1000\n",
        "train_subset = Subset(trainset, indices=list(range(subset_size)))\n",
        "test_subset = Subset(testset, indices=list(range(subset_size)))\n",
        "\n",
        "trainloader = DataLoader(dataset=train_subset, batch_size=batch_size, shuffle=True, num_workers=2)\n",
        "testloader = DataLoader(dataset=test_subset, batch_size=batch_size, shuffle=False, num_workers=2)\n",
        "classes = trainset.classes\n",
        "\n",
        "print(\"Classes:\", classes)\n",
        "print(\"Number of training samples in subset:\", len(train_subset))\n",
        "print(\"Number of test samples in subset:\", len(test_subset))\n",
        "\n",
        "example_image, example_label = train_subset[212]\n",
        "print(\"Example label:\", example_label)"
      ],
      "metadata": {
        "colab": {
          "base_uri": "https://localhost:8080/"
        },
        "id": "xD6qRRc8VdVk",
        "outputId": "23b5335e-f5d1-4b71-971a-b586c90cd2be"
      },
      "execution_count": null,
      "outputs": [
        {
          "output_type": "stream",
          "name": "stdout",
          "text": [
            "Classes: ['angry', 'disgust', 'fear', 'happy', 'neutral', 'sad', 'surprise']\n",
            "Number of training samples in subset: 1000\n",
            "Number of test samples in subset: 1000\n",
            "Example label: 0\n"
          ]
        }
      ]
    },
    {
      "cell_type": "code",
      "source": [
        "import torch\n",
        "import torch.nn as nn\n",
        "import torch.nn.functional as F\n",
        "\n",
        "# Define the CNN model\n",
        "class Net(nn.Module):\n",
        "    def __init__(self):\n",
        "        super().__init__()\n",
        "        # First convolution with batch normalization (for grayscale images)\n",
        "        self.conv1 = nn.Conv2d(in_channels=1, out_channels=32, kernel_size=3, stride=1, padding=1)\n",
        "        self.bn1 = nn.BatchNorm2d(32)\n",
        "        # Second convolution with batch normalization\n",
        "        self.conv2 = nn.Conv2d(in_channels=32, out_channels=64, kernel_size=3, stride=1, padding=1)\n",
        "        self.bn2 = nn.BatchNorm2d(64)\n",
        "        # Third convolution with batch normalization\n",
        "        self.conv3 = nn.Conv2d(in_channels=64, out_channels=128, kernel_size=3, stride=1, padding=1)\n",
        "        self.bn3 = nn.BatchNorm2d(128)\n",
        "        # Pooling layer\n",
        "        self.pool = nn.MaxPool2d(kernel_size=2, stride=2)\n",
        "        # Fully connected layers\n",
        "        self.fc1 = nn.Linear(128 * 6 * 6, 128)  # Adjust size for 48x48 input images\n",
        "        self.fc2 = nn.Linear(128, 64)\n",
        "        self.fc3 = nn.Linear(64, 7)  # Output layer for 7 classes\n",
        "\n",
        "    def forward(self, x):\n",
        "        # Successive convolutions, batch normalization, and pooling\n",
        "        x = self.pool(F.relu(self.bn1(self.conv1(x))))\n",
        "        x = self.pool(F.relu(self.bn2(self.conv2(x))))\n",
        "        x = self.pool(F.relu(self.bn3(self.conv3(x))))\n",
        "        # Flatten all dimensions except batch\n",
        "        x = torch.flatten(x, 1)\n",
        "        # Fully connected layers\n",
        "        x = F.relu(self.fc1(x))\n",
        "        x = F.relu(self.fc2(x))\n",
        "        x = self.fc3(x)\n",
        "        return x"
      ],
      "metadata": {
        "id": "fw-woA2jRWxL"
      },
      "execution_count": null,
      "outputs": []
    },
    {
      "cell_type": "code",
      "execution_count": null,
      "metadata": {
        "id": "aMWME9Mou3T7"
      },
      "outputs": [],
      "source": [
        "# Instantiating Model\n",
        "model = Net().to(device)\n",
        "\n",
        "# Loss Function and Optimizer\n",
        "criterion = nn.CrossEntropyLoss()\n",
        "optimizer = optim.Adam(model.parameters(), lr=0.001)"
      ]
    },
    {
      "cell_type": "code",
      "source": [
        "#Training Loop\n",
        "\n",
        "from torch.utils.data import random_split, Subset\n",
        "\n",
        "total_data_points = 1000\n",
        "\n",
        "subset_indices = list(range(total_data_points))\n",
        "limited_trainset = Subset(trainset, subset_indices)\n",
        "\n",
        "# Split the subset into training and validation subsets\n",
        "train_size = int(0.8 * len(limited_trainset))\n",
        "val_size = len(limited_trainset) - train_size\n",
        "train_subset, val_subset = random_split(limited_trainset, [train_size, val_size])\n",
        "\n",
        "trainloader = DataLoader(dataset=train_subset, batch_size=batch_size, shuffle=True)\n",
        "valloader = DataLoader(dataset=val_subset, batch_size=batch_size, shuffle=False)\n",
        "\n",
        "num_epochs = 2\n",
        "\n",
        "# Model Training and Validation Loop\n",
        "for epoch in range(num_epochs):\n",
        "    model.train()\n",
        "    running_loss = 0.0\n",
        "\n",
        "    # Training loop\n",
        "    for images, labels in trainloader:\n",
        "        images, labels = images.to(device), labels.to(device)\n",
        "        outputs = model(images)\n",
        "        loss = criterion(outputs, labels)\n",
        "        optimizer.zero_grad()\n",
        "        loss.backward()\n",
        "        optimizer.step()\n",
        "        running_loss += loss.item()\n",
        "\n",
        "    print(f\"Epoch [{epoch+1}/{num_epochs}], Training Loss: {running_loss/len(trainloader):.4f}\")\n",
        "\n",
        "    # Validation loop\n",
        "    model.eval()\n",
        "    val_loss = 0.0\n",
        "    with torch.no_grad():\n",
        "        for images, labels in valloader:\n",
        "            images, labels = images.to(device), labels.to(device)\n",
        "            outputs = model(images)\n",
        "            loss = criterion(outputs, labels)\n",
        "            val_loss += loss.item()\n",
        "\n",
        "    print(f\"Epoch [{epoch+1}/{num_epochs}], Validation Loss: {val_loss/len(valloader):.4f}\")\n"
      ],
      "metadata": {
        "colab": {
          "base_uri": "https://localhost:8080/"
        },
        "id": "lWf7Urh6WTFF",
        "outputId": "5563a8eb-ebd2-4aa2-a9dc-28d0b4bcc342"
      },
      "execution_count": null,
      "outputs": [
        {
          "output_type": "stream",
          "name": "stdout",
          "text": [
            "Epoch [1/2], Training Loss: 0.0000\n",
            "Epoch [1/2], Validation Loss: 0.0000\n",
            "Epoch [2/2], Training Loss: 0.0000\n",
            "Epoch [2/2], Validation Loss: 0.0000\n"
          ]
        }
      ]
    },
    {
      "cell_type": "code",
      "execution_count": null,
      "metadata": {
        "colab": {
          "base_uri": "https://localhost:8080/"
        },
        "id": "tsF351P6YoXJ",
        "outputId": "15441fda-8ce7-42f8-be9d-03d73c7131e8"
      },
      "outputs": [
        {
          "output_type": "stream",
          "name": "stdout",
          "text": [
            "Test Accuracy: 100.00%\n"
          ]
        }
      ],
      "source": [
        "# Evaluating the Model\n",
        "\n",
        "model.eval()\n",
        "correct = 0\n",
        "total = 0\n",
        "\n",
        "with torch.no_grad():\n",
        "    for images, labels in testloader:\n",
        "        images, labels = images.to(device), labels.to(device)\n",
        "        outputs = model(images)\n",
        "        _, predicted = torch.max(outputs.data, 1)\n",
        "        total += labels.size(0)\n",
        "        correct += (predicted == labels).sum().item()\n",
        "\n",
        "print(f\"Test Accuracy: {100 * correct / total:.2f}%\")"
      ]
    },
    {
      "cell_type": "code",
      "execution_count": null,
      "metadata": {
        "colab": {
          "base_uri": "https://localhost:8080/"
        },
        "id": "Tt9qVJ67bYlx",
        "outputId": "00182327-93f4-4a7e-ff48-4cc83c00c37f"
      },
      "outputs": [
        {
          "output_type": "stream",
          "name": "stdout",
          "text": [
            "Accuracy for class Angry     : 100.0 %\n",
            "Accuracy for class Disgust   : No samples\n",
            "Accuracy for class Fear      : No samples\n",
            "Accuracy for class Happy     : No samples\n",
            "Accuracy for class Neutral   : No samples\n",
            "Accuracy for class Sad       : No samples\n",
            "Accuracy for class Surprise  : No samples\n"
          ]
        }
      ],
      "source": [
        "# Define emotion classes\n",
        "classes = {\n",
        "    0: \"Angry\",\n",
        "    1: \"Disgust\",\n",
        "    2: \"Fear\",\n",
        "    3: \"Happy\",\n",
        "    4: \"Neutral\",\n",
        "    5: \"Sad\",\n",
        "    6: \"Surprise\"\n",
        "}\n",
        "\n",
        "# Initialize dictionaries to count correct predictions\n",
        "correct_pred = {classname: 0 for classname in classes.values()}\n",
        "total_pred = {classname: 0 for classname in classes.values()}\n",
        "\n",
        "# Evaluate model accuracy\n",
        "with torch.no_grad():\n",
        "    for data in testloader:\n",
        "        images, labels = data\n",
        "        images, labels = images.to(device), labels.to(device)\n",
        "        outputs = model(images)\n",
        "        _, predictions = torch.max(outputs, 1)\n",
        "\n",
        "        # collect predictions for each class\n",
        "        for label, prediction in zip(labels, predictions):\n",
        "            class_name = classes[label.item()]\n",
        "            if label == prediction:\n",
        "                correct_pred[class_name] += 1\n",
        "            total_pred[class_name] += 1\n",
        "\n",
        "# accuracy for each emotion\n",
        "for classname, correct_count in correct_pred.items():\n",
        "    if total_pred[classname] > 0:\n",
        "        accuracy = 100 * float(correct_count) / total_pred[classname]\n",
        "        print(f'Accuracy for class {classname:10s}: {accuracy:.1f} %')\n",
        "    else:\n",
        "        print(f'Accuracy for class {classname:10s}: No samples')\n"
      ]
    },
    {
      "cell_type": "code",
      "execution_count": null,
      "metadata": {
        "colab": {
          "base_uri": "https://localhost:8080/",
          "height": 472
        },
        "id": "bpQzOHyWedGt",
        "outputId": "2c951165-ad6c-4b29-fc14-91170038ab38"
      },
      "outputs": [
        {
          "output_type": "display_data",
          "data": {
            "text/plain": [
              "<Figure size 640x480 with 2 Axes>"
            ],
            "image/png": "[encoded data removed]"
          },
          "metadata": {}
        }
      ],
      "source": [
        "import torch\n",
        "import numpy as np\n",
        "from sklearn.metrics import confusion_matrix, ConfusionMatrixDisplay\n",
        "import matplotlib.pyplot as plt\n",
        "\n",
        "# Define emotion classes\n",
        "classes = {\n",
        "    0: \"Angry\",\n",
        "    1: \"Disgust\",\n",
        "    2: \"Fear\",\n",
        "    3: \"Happy\",\n",
        "    4: \"Neutral\",\n",
        "    5: \"Sad\",\n",
        "    6: \"Surprise\"\n",
        "}\n",
        "\n",
        "# store all true labels and predictions\n",
        "all_labels = []\n",
        "all_predictions = []\n",
        "\n",
        "model.eval()\n",
        "with torch.no_grad():\n",
        "    for images, labels in testloader:\n",
        "        images, labels = images.to(device), labels.to(device)\n",
        "\n",
        "        outputs = model(images)\n",
        "        _, predictions = torch.max(outputs, 1)\n",
        "\n",
        "        all_labels.extend(labels.cpu().numpy())\n",
        "        all_predictions.extend(predictions.cpu().numpy())\n",
        "\n",
        "# Compute confusion matrix\n",
        "conf_matrix = confusion_matrix(all_labels, all_predictions, labels=list(classes.keys()))\n",
        "\n",
        "disp = ConfusionMatrixDisplay(confusion_matrix=conf_matrix,\n",
        "                              display_labels=list(classes.values()))  # Use emotion names as labels\n",
        "disp.plot(cmap=plt.cm.Blues)\n",
        "plt.title(\"Confusion Matrix for Emotion Classification\")\n",
        "plt.show()\n",
        "\n"
      ]
    }
  ],
  "metadata": {
    "colab": {
      "provenance": [],
      "include_colab_link": true
    },
    "kernelspec": {
      "display_name": "Python 3",
      "name": "python3"
    },
    "language_info": {
      "name": "python"
    }
  },
  "nbformat": 4,
  "nbformat_minor": 0
}